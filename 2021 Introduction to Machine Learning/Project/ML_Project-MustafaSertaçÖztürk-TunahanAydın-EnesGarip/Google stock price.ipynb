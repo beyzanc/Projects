{
 "cells": [
  {
   "cell_type": "code",
   "execution_count": 3,
   "metadata": {
    "scrolled": true
   },
   "outputs": [],
   "source": [
    "import numpy as np \n",
    "import pandas as pd \n",
    "import matplotlib.pyplot as plt \n",
    "from sklearn.preprocessing import MinMaxScaler\n",
    "from keras.models import Sequential\n",
    "from keras.layers import Dense,LSTM,Dropout"
   ]
  },
  {
   "cell_type": "code",
   "execution_count": 4,
   "metadata": {},
   "outputs": [
    {
     "data": {
      "text/html": [
       "<div>\n",
       "<style scoped>\n",
       "    .dataframe tbody tr th:only-of-type {\n",
       "        vertical-align: middle;\n",
       "    }\n",
       "\n",
       "    .dataframe tbody tr th {\n",
       "        vertical-align: top;\n",
       "    }\n",
       "\n",
       "    .dataframe thead th {\n",
       "        text-align: right;\n",
       "    }\n",
       "</style>\n",
       "<table border=\"1\" class=\"dataframe\">\n",
       "  <thead>\n",
       "    <tr style=\"text-align: right;\">\n",
       "      <th></th>\n",
       "      <th>Date</th>\n",
       "      <th>Open</th>\n",
       "      <th>High</th>\n",
       "      <th>Low</th>\n",
       "      <th>Close</th>\n",
       "      <th>Volume</th>\n",
       "    </tr>\n",
       "  </thead>\n",
       "  <tbody>\n",
       "    <tr>\n",
       "      <th>0</th>\n",
       "      <td>1/3/2012</td>\n",
       "      <td>325.25</td>\n",
       "      <td>332.83</td>\n",
       "      <td>324.97</td>\n",
       "      <td>663.59</td>\n",
       "      <td>7,380,500</td>\n",
       "    </tr>\n",
       "    <tr>\n",
       "      <th>1</th>\n",
       "      <td>1/4/2012</td>\n",
       "      <td>331.27</td>\n",
       "      <td>333.87</td>\n",
       "      <td>329.08</td>\n",
       "      <td>666.45</td>\n",
       "      <td>5,749,400</td>\n",
       "    </tr>\n",
       "    <tr>\n",
       "      <th>2</th>\n",
       "      <td>1/5/2012</td>\n",
       "      <td>329.83</td>\n",
       "      <td>330.75</td>\n",
       "      <td>326.89</td>\n",
       "      <td>657.21</td>\n",
       "      <td>6,590,300</td>\n",
       "    </tr>\n",
       "    <tr>\n",
       "      <th>3</th>\n",
       "      <td>1/6/2012</td>\n",
       "      <td>328.34</td>\n",
       "      <td>328.77</td>\n",
       "      <td>323.68</td>\n",
       "      <td>648.24</td>\n",
       "      <td>5,405,900</td>\n",
       "    </tr>\n",
       "    <tr>\n",
       "      <th>4</th>\n",
       "      <td>1/9/2012</td>\n",
       "      <td>322.04</td>\n",
       "      <td>322.29</td>\n",
       "      <td>309.46</td>\n",
       "      <td>620.76</td>\n",
       "      <td>11,688,800</td>\n",
       "    </tr>\n",
       "  </tbody>\n",
       "</table>\n",
       "</div>"
      ],
      "text/plain": [
       "       Date    Open    High     Low   Close      Volume\n",
       "0  1/3/2012  325.25  332.83  324.97  663.59   7,380,500\n",
       "1  1/4/2012  331.27  333.87  329.08  666.45   5,749,400\n",
       "2  1/5/2012  329.83  330.75  326.89  657.21   6,590,300\n",
       "3  1/6/2012  328.34  328.77  323.68  648.24   5,405,900\n",
       "4  1/9/2012  322.04  322.29  309.46  620.76  11,688,800"
      ]
     },
     "execution_count": 4,
     "metadata": {},
     "output_type": "execute_result"
    }
   ],
   "source": [
    "data = pd.read_csv('Google_train_data.csv')\n",
    "data.head()"
   ]
  },
  {
   "cell_type": "code",
   "execution_count": 5,
   "metadata": {},
   "outputs": [
    {
     "name": "stdout",
     "output_type": "stream",
     "text": [
      "<class 'pandas.core.frame.DataFrame'>\n",
      "RangeIndex: 1258 entries, 0 to 1257\n",
      "Data columns (total 6 columns):\n",
      " #   Column  Non-Null Count  Dtype  \n",
      "---  ------  --------------  -----  \n",
      " 0   Date    1258 non-null   object \n",
      " 1   Open    1258 non-null   float64\n",
      " 2   High    1258 non-null   float64\n",
      " 3   Low     1258 non-null   float64\n",
      " 4   Close   1258 non-null   object \n",
      " 5   Volume  1258 non-null   object \n",
      "dtypes: float64(3), object(3)\n",
      "memory usage: 59.1+ KB\n"
     ]
    }
   ],
   "source": [
    "data.info()"
   ]
  },
  {
   "cell_type": "code",
   "execution_count": 6,
   "metadata": {},
   "outputs": [],
   "source": [
    "data[\"Close\"]=pd.to_numeric(data.Close,errors='coerce')\n",
    "data = data.dropna()\n",
    "trainData = data.iloc[:,4:5].values"
   ]
  },
  {
   "cell_type": "code",
   "execution_count": 7,
   "metadata": {},
   "outputs": [
    {
     "name": "stdout",
     "output_type": "stream",
     "text": [
      "<class 'pandas.core.frame.DataFrame'>\n",
      "Int64Index: 1149 entries, 0 to 1257\n",
      "Data columns (total 6 columns):\n",
      " #   Column  Non-Null Count  Dtype  \n",
      "---  ------  --------------  -----  \n",
      " 0   Date    1149 non-null   object \n",
      " 1   Open    1149 non-null   float64\n",
      " 2   High    1149 non-null   float64\n",
      " 3   Low     1149 non-null   float64\n",
      " 4   Close   1149 non-null   float64\n",
      " 5   Volume  1149 non-null   object \n",
      "dtypes: float64(4), object(2)\n",
      "memory usage: 62.8+ KB\n"
     ]
    }
   ],
   "source": [
    "data.info()"
   ]
  },
  {
   "cell_type": "code",
   "execution_count": 8,
   "metadata": {},
   "outputs": [
    {
     "data": {
      "text/plain": [
       "(1149, 1)"
      ]
     },
     "execution_count": 8,
     "metadata": {},
     "output_type": "execute_result"
    }
   ],
   "source": [
    "sc = MinMaxScaler(feature_range=(0,1))\n",
    "trainData = sc.fit_transform(trainData)\n",
    "trainData.shape"
   ]
  },
  {
   "cell_type": "code",
   "execution_count": 9,
   "metadata": {},
   "outputs": [],
   "source": [
    "X_train = []\n",
    "y_train = []\n",
    "\n",
    "for i in range (60,1149):\n",
    "    X_train.append(trainData[i-60:i,0]) \n",
    "    y_train.append(trainData[i,0])\n",
    "\n",
    "X_train,y_train = np.array(X_train),np.array(y_train)"
   ]
  },
  {
   "cell_type": "code",
   "execution_count": 10,
   "metadata": {},
   "outputs": [
    {
     "data": {
      "text/plain": [
       "(1089, 60, 1)"
      ]
     },
     "execution_count": 10,
     "metadata": {},
     "output_type": "execute_result"
    }
   ],
   "source": [
    "X_train = np.reshape(X_train,(X_train.shape[0],X_train.shape[1],1))\n",
    "X_train.shape"
   ]
  },
  {
   "cell_type": "code",
   "execution_count": 11,
   "metadata": {},
   "outputs": [],
   "source": [
    "model = Sequential()\n",
    "\n",
    "model.add(LSTM(units=100, return_sequences = True, input_shape =(X_train.shape[1],1)))\n",
    "model.add(Dropout(0.2))\n",
    "\n",
    "model.add(LSTM(units=100, return_sequences = True))\n",
    "model.add(Dropout(0.2))\n",
    "\n",
    "model.add(LSTM(units=100, return_sequences = True))\n",
    "model.add(Dropout(0.2))\n",
    "\n",
    "model.add(LSTM(units=100, return_sequences = False))\n",
    "model.add(Dropout(0.2))\n",
    "\n",
    "model.add(Dense(units =1))\n",
    "model.compile(optimizer='adam',loss=\"mean_squared_error\")"
   ]
  },
  {
   "cell_type": "code",
   "execution_count": 12,
   "metadata": {},
   "outputs": [
    {
     "name": "stdout",
     "output_type": "stream",
     "text": [
      "Epoch 1/20\n",
      "35/35 - 7s - loss: 0.0306 - 7s/epoch - 197ms/step\n",
      "Epoch 2/20\n",
      "35/35 - 3s - loss: 0.0129 - 3s/epoch - 75ms/step\n",
      "Epoch 3/20\n",
      "35/35 - 3s - loss: 0.0110 - 3s/epoch - 74ms/step\n",
      "Epoch 4/20\n",
      "35/35 - 3s - loss: 0.0083 - 3s/epoch - 75ms/step\n",
      "Epoch 5/20\n",
      "35/35 - 3s - loss: 0.0080 - 3s/epoch - 76ms/step\n",
      "Epoch 6/20\n",
      "35/35 - 3s - loss: 0.0080 - 3s/epoch - 76ms/step\n",
      "Epoch 7/20\n",
      "35/35 - 3s - loss: 0.0084 - 3s/epoch - 75ms/step\n",
      "Epoch 8/20\n",
      "35/35 - 3s - loss: 0.0078 - 3s/epoch - 75ms/step\n",
      "Epoch 9/20\n",
      "35/35 - 3s - loss: 0.0062 - 3s/epoch - 79ms/step\n",
      "Epoch 10/20\n",
      "35/35 - 3s - loss: 0.0084 - 3s/epoch - 76ms/step\n",
      "Epoch 11/20\n",
      "35/35 - 3s - loss: 0.0061 - 3s/epoch - 79ms/step\n",
      "Epoch 12/20\n",
      "35/35 - 3s - loss: 0.0053 - 3s/epoch - 80ms/step\n",
      "Epoch 13/20\n",
      "35/35 - 3s - loss: 0.0080 - 3s/epoch - 76ms/step\n",
      "Epoch 14/20\n",
      "35/35 - 3s - loss: 0.0056 - 3s/epoch - 76ms/step\n",
      "Epoch 15/20\n",
      "35/35 - 3s - loss: 0.0051 - 3s/epoch - 75ms/step\n",
      "Epoch 16/20\n",
      "35/35 - 3s - loss: 0.0064 - 3s/epoch - 75ms/step\n",
      "Epoch 17/20\n",
      "35/35 - 3s - loss: 0.0048 - 3s/epoch - 75ms/step\n",
      "Epoch 18/20\n",
      "35/35 - 3s - loss: 0.0046 - 3s/epoch - 75ms/step\n",
      "Epoch 19/20\n",
      "35/35 - 3s - loss: 0.0056 - 3s/epoch - 75ms/step\n",
      "Epoch 20/20\n",
      "35/35 - 3s - loss: 0.0044 - 3s/epoch - 79ms/step\n"
     ]
    }
   ],
   "source": [
    "hist = model.fit(X_train, y_train, epochs = 20, batch_size = 32, verbose=2)"
   ]
  },
  {
   "cell_type": "code",
   "execution_count": 13,
   "metadata": {},
   "outputs": [
    {
     "data": {
      "image/png": "[encoded data removed]",
      "text/plain": [
       "<Figure size 432x288 with 1 Axes>"
      ]
     },
     "metadata": {
      "needs_background": "light"
     },
     "output_type": "display_data"
    }
   ],
   "source": [
    "plt.plot(hist.history['loss'])\n",
    "plt.title('Training model loss')\n",
    "plt.ylabel('loss')\n",
    "plt.xlabel('epoch')\n",
    "plt.legend(['train'], loc='upper left')\n",
    "plt.show()"
   ]
  },
  {
   "cell_type": "code",
   "execution_count": 14,
   "metadata": {},
   "outputs": [
    {
     "data": {
      "text/plain": [
       "(192, 60, 1)"
      ]
     },
     "execution_count": 14,
     "metadata": {},
     "output_type": "execute_result"
    }
   ],
   "source": [
    "testData = pd.read_csv('Google_test_data.csv')\n",
    "testData[\"Close\"]=pd.to_numeric(testData.Close,errors='coerce')\n",
    "testData = testData.dropna()\n",
    "testData = testData.iloc[:,4:5]\n",
    "y_test = testData.iloc[60:,0:].values \n",
    "#input array for the model\n",
    "inputClosing = testData.iloc[:,0:].values \n",
    "inputClosing_scaled = sc.transform(inputClosing)\n",
    "inputClosing_scaled.shape\n",
    "X_test = []\n",
    "length = len(testData)\n",
    "timestep = 60\n",
    "for i in range(timestep,length):  \n",
    "    X_test.append(inputClosing_scaled[i-timestep:i,0])\n",
    "X_test = np.array(X_test)\n",
    "X_test = np.reshape(X_test,(X_test.shape[0],X_test.shape[1],1))\n",
    "X_test.shape"
   ]
  },
  {
   "cell_type": "code",
   "execution_count": 15,
   "metadata": {},
   "outputs": [
    {
     "data": {
      "text/plain": [
       "array([[1.2078203],\n",
       "       [1.2112737],\n",
       "       [1.2244946],\n",
       "       [1.2438899],\n",
       "       [1.2592443],\n",
       "       [1.2591673],\n",
       "       [1.2446759],\n",
       "       [1.2249581],\n",
       "       [1.2126063],\n",
       "       [1.2097453],\n",
       "       [1.2029706],\n",
       "       [1.1912726],\n",
       "       [1.1808187],\n",
       "       [1.1712335],\n",
       "       [1.1696032],\n",
       "       [1.1750885],\n",
       "       [1.1953632],\n",
       "       [1.226796 ],\n",
       "       [1.262276 ],\n",
       "       [1.2970093],\n",
       "       [1.3100902],\n",
       "       [1.3052706],\n",
       "       [1.2818493],\n",
       "       [1.2492687],\n",
       "       [1.2203922],\n",
       "       [1.2043298],\n",
       "       [1.2009676],\n",
       "       [1.201048 ],\n",
       "       [1.1936618],\n",
       "       [1.1821291],\n",
       "       [1.1693846],\n",
       "       [1.1550131],\n",
       "       [1.1335794],\n",
       "       [1.1072979],\n",
       "       [1.0973288],\n",
       "       [1.1087731],\n",
       "       [1.1336008],\n",
       "       [1.1613997],\n",
       "       [1.1873289],\n",
       "       [1.200137 ],\n",
       "       [1.2130256],\n",
       "       [1.2288107],\n",
       "       [1.2472707],\n",
       "       [1.2643648],\n",
       "       [1.2755889],\n",
       "       [1.2762346],\n",
       "       [1.264643 ],\n",
       "       [1.254311 ],\n",
       "       [1.2513036],\n",
       "       [1.2574804],\n",
       "       [1.2715676],\n",
       "       [1.2809466],\n",
       "       [1.2832013],\n",
       "       [1.279443 ],\n",
       "       [1.2772483],\n",
       "       [1.2729508],\n",
       "       [1.2637165],\n",
       "       [1.2591287],\n",
       "       [1.2688836],\n",
       "       [1.2885145],\n",
       "       [1.3166482],\n",
       "       [1.3501507],\n",
       "       [1.3729342],\n",
       "       [1.3757603],\n",
       "       [1.3614606],\n",
       "       [1.3386301],\n",
       "       [1.3228589],\n",
       "       [1.3177198],\n",
       "       [1.3212726],\n",
       "       [1.3269454],\n",
       "       [1.3326546],\n",
       "       [1.3358372],\n",
       "       [1.3314644],\n",
       "       [1.3250734],\n",
       "       [1.3197178],\n",
       "       [1.3182232],\n",
       "       [1.320516 ],\n",
       "       [1.3260326],\n",
       "       [1.338843 ],\n",
       "       [1.3580791],\n",
       "       [1.382778 ],\n",
       "       [1.4061204],\n",
       "       [1.4188588],\n",
       "       [1.4198544],\n",
       "       [1.4226689],\n",
       "       [1.435193 ],\n",
       "       [1.4540035],\n",
       "       [1.4702069],\n",
       "       [1.479165 ],\n",
       "       [1.4806479],\n",
       "       [1.4813472],\n",
       "       [1.4907377],\n",
       "       [1.5088203],\n",
       "       [1.520968 ],\n",
       "       [1.5192193],\n",
       "       [1.5041064],\n",
       "       [1.4791585],\n",
       "       [1.4508898],\n",
       "       [1.4275503],\n",
       "       [1.4192808],\n",
       "       [1.4265516],\n",
       "       [1.4446334],\n",
       "       [1.4687299],\n",
       "       [1.4896618],\n",
       "       [1.5021731],\n",
       "       [1.5041994],\n",
       "       [1.5003134],\n",
       "       [1.4951056],\n",
       "       [1.4949349],\n",
       "       [1.5004057],\n",
       "       [1.5104203],\n",
       "       [1.5242642],\n",
       "       [1.5381349],\n",
       "       [1.5527843],\n",
       "       [1.5708196],\n",
       "       [1.5858139],\n",
       "       [1.596996 ],\n",
       "       [1.6064124],\n",
       "       [1.6184586],\n",
       "       [1.5978726],\n",
       "       [1.5449458],\n",
       "       [1.4784682],\n",
       "       [1.4249526],\n",
       "       [1.3952603],\n",
       "       [1.3833247],\n",
       "       [1.3807918],\n",
       "       [1.3819722],\n",
       "       [1.3853842],\n",
       "       [1.3805263],\n",
       "       [1.3653035],\n",
       "       [1.3586243],\n",
       "       [1.3689113],\n",
       "       [1.3864757],\n",
       "       [1.3964311],\n",
       "       [1.399335 ],\n",
       "       [1.3985208],\n",
       "       [1.3933858],\n",
       "       [1.3837765],\n",
       "       [1.3727231],\n",
       "       [1.3579189],\n",
       "       [1.3424383],\n",
       "       [1.3254634],\n",
       "       [1.2903672],\n",
       "       [1.2480778],\n",
       "       [1.2072812],\n",
       "       [1.1760279],\n",
       "       [1.1635398],\n",
       "       [1.1725277],\n",
       "       [1.195914 ],\n",
       "       [1.2237941],\n",
       "       [1.2517965],\n",
       "       [1.274769 ],\n",
       "       [1.2921805],\n",
       "       [1.3068048],\n",
       "       [1.3182045],\n",
       "       [1.3281137],\n",
       "       [1.338959 ],\n",
       "       [1.3476146],\n",
       "       [1.3439944],\n",
       "       [1.3275625],\n",
       "       [1.303551 ],\n",
       "       [1.2804004],\n",
       "       [1.2678281],\n",
       "       [1.2704352],\n",
       "       [1.2870594],\n",
       "       [1.3133388],\n",
       "       [1.3370124],\n",
       "       [1.3545862],\n",
       "       [1.369578 ],\n",
       "       [1.3831033],\n",
       "       [1.3941107],\n",
       "       [1.4028994],\n",
       "       [1.4097468],\n",
       "       [1.4119594],\n",
       "       [1.409692 ],\n",
       "       [1.3997575],\n",
       "       [1.3873731],\n",
       "       [1.3788153],\n",
       "       [1.3730346],\n",
       "       [1.3676366],\n",
       "       [1.397519 ],\n",
       "       [1.4540179],\n",
       "       [1.5118642],\n",
       "       [1.5516826],\n",
       "       [1.566582 ],\n",
       "       [1.557011 ],\n",
       "       [1.5199944],\n",
       "       [1.4752542],\n",
       "       [1.4377011],\n",
       "       [1.4229106],\n",
       "       [1.4235837],\n",
       "       [1.4277343]], dtype=float32)"
      ]
     },
     "execution_count": 15,
     "metadata": {},
     "output_type": "execute_result"
    }
   ],
   "source": [
    "y_pred = model.predict(X_test)\n",
    "y_pred"
   ]
  },
  {
   "cell_type": "code",
   "execution_count": 16,
   "metadata": {},
   "outputs": [],
   "source": [
    "predicted_price = sc.inverse_transform(y_pred)"
   ]
  },
  {
   "cell_type": "code",
   "execution_count": 17,
   "metadata": {
    "scrolled": false
   },
   "outputs": [
    {
     "data": {
      "image/png": "[encoded data removed]",
      "text/plain": [
       "<Figure size 432x288 with 1 Axes>"
      ]
     },
     "metadata": {
      "needs_background": "light"
     },
     "output_type": "display_data"
    }
   ],
   "source": [
    "plt.plot(y_test, color = 'red', label = 'Actual Stock Price')\n",
    "plt.plot(predicted_price, color = 'green', label = 'Predicted Stock Price')\n",
    "plt.title('Google Stock Price Prediction')\n",
    "plt.xlabel('Time')\n",
    "plt.ylabel('Stock Price')\n",
    "plt.legend()\n",
    "plt.show()"
   ]
  },
  {
   "cell_type": "code",
   "execution_count": 18,
   "metadata": {
    "scrolled": true
   },
   "outputs": [
    {
     "name": "stdout",
     "output_type": "stream",
     "text": [
      "1124.3414062083332\n"
     ]
    }
   ],
   "source": [
    "print(np.mean(y_test))"
   ]
  },
  {
   "cell_type": "code",
   "execution_count": 19,
   "metadata": {},
   "outputs": [
    {
     "name": "stdout",
     "output_type": "stream",
     "text": [
      "1070.5787\n"
     ]
    }
   ],
   "source": [
    "print(np.mean(predicted_price))"
   ]
  },
  {
   "cell_type": "code",
   "execution_count": 20,
   "metadata": {},
   "outputs": [],
   "source": [
    "accuracy = (np.mean(predicted_price)/np.mean(y_test))*100"
   ]
  },
  {
   "cell_type": "code",
   "execution_count": 21,
   "metadata": {},
   "outputs": [
    {
     "name": "stdout",
     "output_type": "stream",
     "text": [
      "95.21829663482048\n"
     ]
    }
   ],
   "source": [
    "print(accuracy)"
   ]
  },
  {
   "cell_type": "code",
   "execution_count": null,
   "metadata": {},
   "outputs": [],
   "source": []
  }
 ],
 "metadata": {
  "kernelspec": {
   "display_name": "Python 3 (ipykernel)",
   "language": "python",
   "name": "python3"
  },
  "language_info": {
   "codemirror_mode": {
    "name": "ipython",
    "version": 3
   },
   "file_extension": ".py",
   "mimetype": "text/x-python",
   "name": "python",
   "nbconvert_exporter": "python",
   "pygments_lexer": "ipython3",
   "version": "3.9.5"
  }
 },
 "nbformat": 4,
 "nbformat_minor": 4
}
